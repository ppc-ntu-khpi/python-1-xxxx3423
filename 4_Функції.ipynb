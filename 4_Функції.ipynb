{
  "nbformat": 4,
  "nbformat_minor": 0,
  "metadata": {
    "colab": {
      "name": "4_Функції",
      "provenance": [],
      "collapsed_sections": [],
      "toc_visible": true
    },
    "kernelspec": {
      "name": "python3",
      "display_name": "Python 3"
    },
    "language_info": {
      "name": "python"
    }
  },
  "cells": [
    {
      "cell_type": "markdown",
      "metadata": {
        "id": "0NWjKt0FFHOj"
      },
      "source": [
        "# Функції"
      ]
    },
    {
      "cell_type": "markdown",
      "metadata": {
        "id": "gTIZYir9FEtw"
      },
      "source": [
        "## 1. Функції однієї змінної"
      ]
    },
    {
      "cell_type": "markdown",
      "metadata": {
        "id": "YoKhx_h0FFRy"
      },
      "source": [
        "Треба попросити користувача ввести десять цілих чисел (якщо число більше 10 або менше 0 - відкидаємо його) й наповнити список результатами обчислення значення такого виразу за введеним числом:\n",
        "$$\n",
        " x^2+1\n",
        "$$\n",
        "\n"
      ]
    },
    {
      "cell_type": "code",
      "metadata": {
        "colab": {
          "base_uri": "https://localhost:8080/"
        },
        "id": "MxeAZwX1FFeu",
        "outputId": "055091a0-9f6b-40fe-faf7-ad6f6a483af1"
      },
      "source": [
        "# вам треба дописати/змінити цей блок коду\n",
        "def sqrPlus1(x):\n",
        "  return x**2 + 1\n",
        "# кінець вашого коду\n",
        "\n",
        "numbers=[]\n",
        "n = 1\n",
        "while True:\n",
        "  if n <= 10:\n",
        "    x = int(input(str(n)+\" - введіть число від 0 до 10:\"))\n",
        "\n",
        "    # вам треба дописати/змінити цей блок коду\n",
        "    if 0 <= x <= 10:\n",
        "    # кінець вашого коду\n",
        "    \n",
        "      numbers.append(sqrPlus1(x))\n",
        "    else:\n",
        "      print(\"Потрібне число від 0 до 10!\")\n",
        "  else:\n",
        "    break\n",
        "  n = n + 1\n",
        "numbers"
      ],
      "execution_count": 41,
      "outputs": [
        {
          "name": "stdout",
          "output_type": "stream",
          "text": [
            "1 - введіть число від 0 до 10:2\n",
            "2 - введіть число від 0 до 10:5\n",
            "3 - введіть число від 0 до 10:0\n",
            "4 - введіть число від 0 до 10:3\n",
            "5 - введіть число від 0 до 10:-5\n",
            "Потрібне число від 0 до 10!\n",
            "6 - введіть число від 0 до 10:2\n",
            "7 - введіть число від 0 до 10:1\n",
            "8 - введіть число від 0 до 10:3\n",
            "9 - введіть число від 0 до 10:0\n",
            "10 - введіть число від 0 до 10:1\n"
          ]
        },
        {
          "output_type": "execute_result",
          "data": {
            "text/plain": [
              "[Ellipsis,\n",
              " Ellipsis,\n",
              " Ellipsis,\n",
              " Ellipsis,\n",
              " Ellipsis,\n",
              " Ellipsis,\n",
              " Ellipsis,\n",
              " Ellipsis,\n",
              " Ellipsis]"
            ]
          },
          "metadata": {},
          "execution_count": 41
        }
      ]
    },
    {
      "cell_type": "markdown",
      "metadata": {
        "id": "Qw8rpCPQIeQi"
      },
      "source": [
        "## 2. Лямбда-функції"
      ]
    },
    {
      "cell_type": "markdown",
      "metadata": {
        "id": "NLz32FZQIeDx"
      },
      "source": [
        "Напищіть чотири лямбда-функції для виконання чотирьох арифметичних дій - додавання, віднімання, множення та ділення (якщо друге число дорівнює нулю, результат має бути нуль - тут зручно використати тернарний оператор) для програми-калькулятора."
      ]
    },
    {
      "cell_type": "code",
      "metadata": {
        "colab": {
          "base_uri": "https://localhost:8080/"
        },
        "id": "n9zDmRTzIfhe",
        "outputId": "f3bbc22f-5354-4172-8a54-5eebe6844b4a"
      },
      "source": [
        "# вам треба дописати/змінити цей блок коду\n",
        "add = lambda a, b: a + b\n",
        "sub = lambda a, b: a - b\n",
        "mul = lambda a, b: a * b\n",
        "div = lambda a, b: a / b if b != 0 else 0\n",
        "# кінець вашого коду\n",
        "\n",
        "\n",
        "a = int(input(\"Введіть перше число:\"))\n",
        "b = int(input(\"Введіть друге число:\"))\n",
        "c = 0\n",
        "\n",
        "menu = {}\n",
        "menu['1']=\"Додати числа\" \n",
        "menu['2']=\"Відняти числа\"\n",
        "menu['3']=\"Перемножити числа\"\n",
        "menu['4']=\"Поділити числа\"\n",
        "menu['5']=\"завершити роботу\"\n",
        "options=menu.keys()\n",
        "for entry in options: \n",
        "    print(entry, menu[entry])\n",
        "while True:   \n",
        "  selection=input(\"Оберіть операцію:\") \n",
        "  if selection =='1': \n",
        "    print(\"Додавання:\", add(a, b))\n",
        "  elif selection == '2': \n",
        "    print(\"Віднімання:\", sub(a, b))\n",
        "  elif selection == '3':\n",
        "    print(\"Множення:\",mul(a, b))\n",
        "  elif selection == '4': \n",
        "    print(\"Ділення\",div(a, b))\n",
        "  elif selection == '5': \n",
        "    break\n",
        "  else: \n",
        "    print (\"Невідома операція!\")\n",
        "\n"
      ],
      "execution_count": 23,
      "outputs": [
        {
          "name": "stdout",
          "output_type": "stream",
          "text": [
            "Введіть перше число:12\n",
            "Введіть друге число:2\n",
            "1 Додати числа\n",
            "2 Відняти числа\n",
            "3 Перемножити числа\n",
            "4 Поділити числа\n",
            "5 завершити роботу\n",
            "Оберіть операцію:1\n",
            "Додавання: 14\n",
            "Оберіть операцію:2\n",
            "Віднімання: 10\n",
            "Оберіть операцію:3\n",
            "Множення: 24\n",
            "Оберіть операцію:4\n",
            "Ділення 6.0\n",
            "Оберіть операцію:6\n",
            "Невідома операція!\n",
            "Оберіть операцію:5\n"
          ]
        }
      ]
    },
    {
      "cell_type": "markdown",
      "metadata": {
        "id": "PHvB7BM3MfLF"
      },
      "source": [
        "## 3. Функція з аргументами за замовчуванням"
      ]
    },
    {
      "cell_type": "markdown",
      "metadata": {
        "id": "7YJyiPk3MfeF"
      },
      "source": [
        "Написати функцію, яка просить чотири аргументи - номер агрегата (id), його назву (name), операцію, яку треба виконати (operation), приорітет (priority). Якщо значення двох останніх параметрів не задані, має виконуватись операція \"стоп\" з приорітетом \"високий\"."
      ]
    },
    {
      "cell_type": "code",
      "metadata": {
        "colab": {
          "base_uri": "https://localhost:8080/"
        },
        "id": "wFZR9BjLNH8S",
        "outputId": "81240b97-8b06-4f44-c9e3-e5619a2ed03b"
      },
      "source": [
        "# вам треба дописати/змінити цей блок коду\n",
        "#def controlEngine(id, name, operation="стоп", priority="високий"):\n",
        "# кінець вашого коду\n",
        "\n",
        "  print('Агрегат:',name, '#',id, \"\\n\\tОбрана операція:\", operation ,\"\\n\\tПриорітет:\", priority)\n",
        "\n",
        "controlEngine(1,\"реактор\")\n",
        "controlEngine(1,\"реактор\",\"запуск\")\n",
        "controlEngine(1,\"реактор\", priority=\"звичайний\")\n",
        "controlEngine(operation = \"запуск\", id = 1,name = \"реактор\", priority = \"звичайний\")"
      ],
      "execution_count": 42,
      "outputs": [
        {
          "output_type": "stream",
          "name": "stdout",
          "text": [
            "Агрегат: реактор # 1 \n",
            "\tОбрана операція: стоп \n",
            "\tПриорітет: високий\n",
            "Агрегат: реактор # 1 \n",
            "\tОбрана операція: запуск \n",
            "\tПриорітет: високий\n",
            "Агрегат: реактор # 1 \n",
            "\tОбрана операція: стоп \n",
            "\tПриорітет: звичайний\n",
            "Агрегат: реактор # 1 \n",
            "\tОбрана операція: запуск \n",
            "\tПриорітет: звичайний\n"
          ]
        }
      ]
    }
  ]
}
