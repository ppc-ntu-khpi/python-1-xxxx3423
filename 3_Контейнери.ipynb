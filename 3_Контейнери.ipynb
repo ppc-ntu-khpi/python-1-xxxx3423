{
  "nbformat": 4,
  "nbformat_minor": 0,
  "metadata": {
    "colab": {
      "name": "3_Контейнери",
      "provenance": [],
      "collapsed_sections": [],
      "toc_visible": true
    },
    "kernelspec": {
      "name": "python3",
      "display_name": "Python 3"
    },
    "language_info": {
      "name": "python"
    }
  },
  "cells": [
    {
      "cell_type": "markdown",
      "metadata": {
        "id": "hi3Bw62l5tIU"
      },
      "source": [
        "# Списки, кортежі, словники, множини"
      ]
    },
    {
      "cell_type": "markdown",
      "metadata": {
        "id": "y2_-l9Eb5x6t"
      },
      "source": [
        "##  1. Списки\n"
      ]
    },
    {
      "cell_type": "markdown",
      "metadata": {
        "id": "TAKMiaa051Ya"
      },
      "source": [
        "Дано список з результатами вимірювання температури повітря (в градусах Цельсія). Необхідно:\n",
        "  * перевести градуси Цельсія в Фаренгейти\n",
        "  * заокруглити всі значення до одного знаку після коми\n",
        "  * вивести список у зворотному порядку\n",
        "  * вивести кількість елементів в списку\n",
        "\n",
        "Підказка: згадайте захід про Python в ролі калькулятора (або один з прикладів з третьої частини нашої розмови на лекції) та про зрізи (розтини, slising)!"
      ]
    },
    {
      "cell_type": "code",
      "metadata": {
        "colab": {
          "base_uri": "https://localhost:8080/"
        },
        "id": "P7EyxdRv5qxH",
        "outputId": "3c1bd49d-7bdf-4628-bbeb-4ef12d90070a"
      },
      "source": [
        "C = [10.0, 15.5, 17.1, 17.6, 19.0, 19.9, 25.0, 25.8, 28.0, 29.0, 30.1]\n",
        "\n",
        "# вам треба дописати/змінити цей блок коду\n",
        "F = [round((temp * 9/5) + 32, 1) for temp in C]\n",
        "print(F)\n",
        "# кінець вашого коду\n",
        "\n",
        "print(\"Всього вимірювань:\",len(F))"
      ],
      "execution_count": 5,
      "outputs": [
        {
          "output_type": "stream",
          "name": "stdout",
          "text": [
            "[86.2, 84.2, 82.4, 78.4, 77.0, 67.8, 66.2, 63.7, 62.8, 59.9, 50.0]\n",
            "Всього вимірювань: 11\n"
          ]
        }
      ]
    },
    {
      "cell_type": "markdown",
      "metadata": {
        "id": "_X63dfCf_1A_"
      },
      "source": [
        "## 2. Кортежі"
      ]
    },
    {
      "cell_type": "markdown",
      "metadata": {
        "id": "CpSMbIFB61ls"
      },
      "source": [
        "Дано кортеж, який містить оцінки студента з певної дисципліни. Необхідно перевірити чи має студент двійки чи ні, і вивести відповідні повідомлення."
      ]
    },
    {
      "cell_type": "code",
      "metadata": {
        "colab": {
          "base_uri": "https://localhost:8080/"
        },
        "id": "lnCJy9Of8Sn8",
        "outputId": "e5c2dcea-9af9-4921-b8e1-86c94af3bb95"
      },
      "source": [
        "grades = (4, 5, 4, 4, 3, 5, 3, 3, 2, 5, 5, 5)\n",
        "\n",
        "# вам треба дописати/змінити цей блок коду\n",
        "if 2 in grades:\n",
        "# кінець вашого коду\n",
        "\n",
        "  print('Студент має принаймні одну двійку з дисципліни!')\n",
        "else:\n",
        "  print('Студент вчиться без двійок')"
      ],
      "execution_count": 20,
      "outputs": [
        {
          "output_type": "stream",
          "name": "stdout",
          "text": [
            "Студент має принаймні одну двійку з дисципліни!\n"
          ]
        }
      ]
    },
    {
      "cell_type": "markdown",
      "metadata": {
        "id": "MelnZ73v_4rp"
      },
      "source": [
        "## 3. Словники"
      ]
    },
    {
      "cell_type": "markdown",
      "metadata": {
        "id": "Aeqara6f9OfD"
      },
      "source": [
        "Дано словник, який містить середні оцінки студентів з дисципліни. Необхідно додати всім один бал. Але якщо в результаті додавання виходить значення більше п'яти - поставити 5.0!\n",
        "\n",
        "Підказка: тут зручно використати **тернарний оператор**. Як він виглядає в Python - легко знайти в Google!"
      ]
    },
    {
      "cell_type": "code",
      "metadata": {
        "colab": {
          "base_uri": "https://localhost:8080/"
        },
        "id": "4qYr1VTm9O1e",
        "outputId": "f862ee40-5fc2-4d6a-96f9-f376de990c94"
      },
      "source": [
        "students = {\"Васильєв\":3.5, \"Семенов\":4.0, \"Петров\":4.5, \"Іванов\":3.0, \"Мар'їн\":5.0}\n",
        "for student in students.keys():\n",
        "\n",
        "  # вам треба дописати/змінити цей блок коду\n",
        "  students.update( students[student] = students[student] + 1 if students[student] + 1 <= 5 else 5.0 )\n",
        "  # кінець вашого коду\n",
        "\n",
        "students\n",
        "\n"
      ],
      "execution_count": 15,
      "outputs": [
        {
          "output_type": "execute_result",
          "data": {
            "text/plain": [
              "{'Іванов': 4.0, 'Васильєв': 4.5, \"Мар'їн\": 5.0, 'Петров': 5.0, 'Семенов': 5.0}"
            ]
          },
          "metadata": {},
          "execution_count": 15
        }
      ]
    },
    {
      "cell_type": "markdown",
      "metadata": {
        "id": "jx50JYh3_xUE"
      },
      "source": [
        " ## 4. Множини"
      ]
    },
    {
      "cell_type": "markdown",
      "metadata": {
        "id": "yifoJuwHADu3"
      },
      "source": [
        "Студенти заповнювали анкети, однак, дехто зробив це кілька разів.З використанням множин знайдіть кількість людей, які заповнили анкети."
      ]
    },
    {
      "cell_type": "code",
      "metadata": {
        "colab": {
          "base_uri": "https://localhost:8080/"
        },
        "id": "YswmBtmy_x_7",
        "outputId": "97bdd335-01b5-42db-a76b-755acb874559"
      },
      "source": [
        "responces = [\"Іванов\", \"Петров\", \"Сидоров\", \"Васильєв\", \"Семенов\", \"Іванов\", \"Мар'їн\", \"Сидоров\", \"Дмитрієв\", \"Іванов\"]\n",
        "print(\"Всього анкет заповнено:\",len(responces))\n",
        "\n",
        "# вам треба дописати/змінити цей блок коду\n",
        "respondents = set(responces)\n",
        "# кінець вашого коду\n",
        "\n",
        "print(\"Всього респондентів:\",len(respondents))"
      ],
      "execution_count": 19,
      "outputs": [
        {
          "output_type": "stream",
          "name": "stdout",
          "text": [
            "Всього анкет заповнено: 10\n",
            "Всього респондентів: 7\n"
          ]
        }
      ]
    }
  ]
}
